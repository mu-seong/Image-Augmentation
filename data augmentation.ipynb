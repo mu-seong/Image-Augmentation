{
 "cells": [
  {
   "cell_type": "code",
   "execution_count": 1,
   "metadata": {
    "scrolled": false
   },
   "outputs": [
    {
     "name": "stderr",
     "output_type": "stream",
     "text": [
      "Using TensorFlow backend.\n"
     ]
    }
   ],
   "source": [
    "from keras.preprocessing import image\n",
    "from keras.preprocessing.image import ImageDataGenerator, array_to_img, img_to_array, load_img\n",
    "import os\n",
    "import sys"
   ]
  },
  {
   "cell_type": "code",
   "execution_count": 2,
   "metadata": {},
   "outputs": [],
   "source": [
    "train_datagen = ImageDataGenerator(rescale=1./255,\n",
    "                                  horizontal_flip=True,\n",
    "                                  width_shift_range=0.1,\n",
    "                                  height_shift_range=0.1,\n",
    "                                  rotation_range=5,\n",
    "                                  shear_range=0.5,\n",
    "                                  zoom_range=0.5,\n",
    "                                  vertical_flip=True,\n",
    "                                  fill_mode='nearest')"
   ]
  },
  {
   "cell_type": "code",
   "execution_count": 3,
   "metadata": {},
   "outputs": [
    {
     "data": {
      "text/plain": [
       "'test_datagen = ImageDataGenerator(rescale=1./255)\\n'"
      ]
     },
     "execution_count": 3,
     "metadata": {},
     "output_type": "execute_result"
    }
   ],
   "source": [
    "'''test_datagen = ImageDataGenerator(rescale=1./255)\n",
    "'''"
   ]
  },
  {
   "cell_type": "markdown",
   "metadata": {},
   "source": [
    "<h2>blue circle data augmentation</h2>"
   ]
  },
  {
   "cell_type": "code",
   "execution_count": 3,
   "metadata": {},
   "outputs": [
    {
     "name": "stdout",
     "output_type": "stream",
     "text": [
      "figure 0 augmentation finish\n",
      "figure 1 augmentation finish\n",
      "figure 2 augmentation finish\n",
      "figure 3 augmentation finish\n",
      "figure 4 augmentation finish\n",
      "figure 5 augmentation finish\n",
      "figure 6 augmentation finish\n",
      "figure 7 augmentation finish\n",
      "figure 8 augmentation finish\n",
      "figure 9 augmentation finish\n",
      "figure 10 augmentation finish\n",
      "figure 11 augmentation finish\n",
      "figure 12 augmentation finish\n",
      "figure 13 augmentation finish\n",
      "figure 14 augmentation finish\n",
      "figure 15 augmentation finish\n",
      "figure 16 augmentation finish\n",
      "figure 17 augmentation finish\n",
      "figure 18 augmentation finish\n",
      "figure 19 augmentation finish\n",
      "figure 20 augmentation finish\n",
      "figure 21 augmentation finish\n",
      "figure 22 augmentation finish\n",
      "figure 23 augmentation finish\n",
      "figure 24 augmentation finish\n",
      "figure 25 augmentation finish\n",
      "figure 26 augmentation finish\n",
      "figure 27 augmentation finish\n",
      "figure 28 augmentation finish\n",
      "figure 29 augmentation finish\n",
      "all finish\n"
     ]
    }
   ],
   "source": [
    "train_figure_dir = './AttnGAN-master_caption generation/data/figure_180/train_augmentation/bluecircle/original'\n",
    "\n",
    "fnames = sorted([os.path.join(train_figure_dir, fname) for\n",
    "                 fname in os.listdir(train_figure_dir)])\n",
    "\n",
    "for k in range(30):\n",
    "    img_path = fnames[k]\n",
    "\n",
    "    img = image.load_img(img_path, target_size=(300,300))\n",
    "\n",
    "    x = image.img_to_array(img)\n",
    "    x = x.reshape((1,) + x.shape)\n",
    "\n",
    "    i = 0\n",
    "    for batch in train_datagen.flow(x,\n",
    "                                    batch_size=1,\n",
    "                                    save_to_dir='./AttnGAN-master_caption generation/data/figure_180/train_augmentation/bluecircle',\n",
    "                                    save_prefix='blue circle new',\n",
    "                                    save_format='jpeg'):\n",
    "        i += 1\n",
    "        if i==60:\n",
    "            break\n",
    "    print('figure', k, 'augmentation finish')\n",
    "\n",
    "print('all finish')"
   ]
  },
  {
   "cell_type": "markdown",
   "metadata": {},
   "source": [
    "<h2>blue rectangle data augmentation</h2>"
   ]
  },
  {
   "cell_type": "code",
   "execution_count": 5,
   "metadata": {},
   "outputs": [
    {
     "name": "stdout",
     "output_type": "stream",
     "text": [
      "figure 0 augmentation finish\n",
      "figure 1 augmentation finish\n",
      "figure 2 augmentation finish\n",
      "figure 3 augmentation finish\n",
      "figure 4 augmentation finish\n",
      "figure 5 augmentation finish\n",
      "figure 6 augmentation finish\n",
      "figure 7 augmentation finish\n",
      "figure 8 augmentation finish\n",
      "figure 9 augmentation finish\n",
      "figure 10 augmentation finish\n",
      "figure 11 augmentation finish\n",
      "figure 12 augmentation finish\n",
      "figure 13 augmentation finish\n",
      "figure 14 augmentation finish\n",
      "figure 15 augmentation finish\n",
      "figure 16 augmentation finish\n",
      "figure 17 augmentation finish\n",
      "figure 18 augmentation finish\n",
      "figure 19 augmentation finish\n",
      "figure 20 augmentation finish\n",
      "figure 21 augmentation finish\n",
      "figure 22 augmentation finish\n",
      "figure 23 augmentation finish\n",
      "figure 24 augmentation finish\n",
      "figure 25 augmentation finish\n",
      "figure 26 augmentation finish\n",
      "figure 27 augmentation finish\n",
      "figure 28 augmentation finish\n",
      "figure 29 augmentation finish\n",
      "all finish\n"
     ]
    }
   ],
   "source": [
    "train_figure_dir = './AttnGAN-master_caption generation/data/figure_180/train_augmentation/bluerectangle/original'\n",
    "\n",
    "fnames = sorted([os.path.join(train_figure_dir, fname) for\n",
    "                 fname in os.listdir(train_figure_dir)])\n",
    "\n",
    "for k in range(30):\n",
    "    img_path = fnames[k]\n",
    "\n",
    "    img = image.load_img(img_path, target_size=(300,300))\n",
    "\n",
    "    x = image.img_to_array(img)\n",
    "    x = x.reshape((1,) + x.shape)\n",
    "\n",
    "    i = 0\n",
    "    for batch in train_datagen.flow(x,\n",
    "                                    batch_size=1,\n",
    "                                    save_to_dir='./AttnGAN-master_caption generation/data/figure_180/train_augmentation/bluerectangle',\n",
    "                                    save_prefix='blue rectangle new',\n",
    "                                    save_format='jpeg'):\n",
    "        i += 1\n",
    "        if i==60:\n",
    "            break\n",
    "    print('figure', k, 'augmentation finish')\n",
    "\n",
    "print('all finish')"
   ]
  },
  {
   "cell_type": "markdown",
   "metadata": {},
   "source": [
    "<h2>green circle data augmentation</h2>"
   ]
  },
  {
   "cell_type": "code",
   "execution_count": 6,
   "metadata": {},
   "outputs": [
    {
     "name": "stdout",
     "output_type": "stream",
     "text": [
      "figure 0 augmentation finish\n",
      "figure 1 augmentation finish\n",
      "figure 2 augmentation finish\n",
      "figure 3 augmentation finish\n",
      "figure 4 augmentation finish\n",
      "figure 5 augmentation finish\n",
      "figure 6 augmentation finish\n",
      "figure 7 augmentation finish\n",
      "figure 8 augmentation finish\n",
      "figure 9 augmentation finish\n",
      "figure 10 augmentation finish\n",
      "figure 11 augmentation finish\n",
      "figure 12 augmentation finish\n",
      "figure 13 augmentation finish\n",
      "figure 14 augmentation finish\n",
      "figure 15 augmentation finish\n",
      "figure 16 augmentation finish\n",
      "figure 17 augmentation finish\n",
      "figure 18 augmentation finish\n",
      "figure 19 augmentation finish\n",
      "figure 20 augmentation finish\n",
      "figure 21 augmentation finish\n",
      "figure 22 augmentation finish\n",
      "figure 23 augmentation finish\n",
      "figure 24 augmentation finish\n",
      "figure 25 augmentation finish\n",
      "figure 26 augmentation finish\n",
      "figure 27 augmentation finish\n",
      "figure 28 augmentation finish\n",
      "figure 29 augmentation finish\n",
      "all finish\n"
     ]
    }
   ],
   "source": [
    "train_figure_dir = './AttnGAN-master_caption generation/data/figure_180/train_augmentation/greencircle/original'\n",
    "\n",
    "fnames = sorted([os.path.join(train_figure_dir, fname) for\n",
    "                 fname in os.listdir(train_figure_dir)])\n",
    "\n",
    "for k in range(30):\n",
    "    img_path = fnames[k]\n",
    "\n",
    "    img = image.load_img(img_path, target_size=(300,300))\n",
    "\n",
    "    x = image.img_to_array(img)\n",
    "    x = x.reshape((1,) + x.shape)\n",
    "\n",
    "    i = 0\n",
    "    for batch in train_datagen.flow(x,\n",
    "                                    batch_size=1,\n",
    "                                    save_to_dir='./AttnGAN-master_caption generation/data/figure_180/train_augmentation/greencircle',\n",
    "                                    save_prefix='green circle new',\n",
    "                                    save_format='jpeg'):\n",
    "        i += 1\n",
    "        if i==60:\n",
    "            break\n",
    "    print('figure', k, 'augmentation finish')\n",
    "\n",
    "print('all finish')"
   ]
  },
  {
   "cell_type": "markdown",
   "metadata": {},
   "source": [
    "<h2>green triangle data augmentation</h2>"
   ]
  },
  {
   "cell_type": "code",
   "execution_count": 7,
   "metadata": {},
   "outputs": [
    {
     "name": "stdout",
     "output_type": "stream",
     "text": [
      "figure 0 augmentation finish\n",
      "figure 1 augmentation finish\n",
      "figure 2 augmentation finish\n",
      "figure 3 augmentation finish\n",
      "figure 4 augmentation finish\n",
      "figure 5 augmentation finish\n",
      "figure 6 augmentation finish\n",
      "figure 7 augmentation finish\n",
      "figure 8 augmentation finish\n",
      "figure 9 augmentation finish\n",
      "figure 10 augmentation finish\n",
      "figure 11 augmentation finish\n",
      "figure 12 augmentation finish\n",
      "figure 13 augmentation finish\n",
      "figure 14 augmentation finish\n",
      "figure 15 augmentation finish\n",
      "figure 16 augmentation finish\n",
      "figure 17 augmentation finish\n",
      "figure 18 augmentation finish\n",
      "figure 19 augmentation finish\n",
      "figure 20 augmentation finish\n",
      "figure 21 augmentation finish\n",
      "figure 22 augmentation finish\n",
      "figure 23 augmentation finish\n",
      "figure 24 augmentation finish\n",
      "figure 25 augmentation finish\n",
      "figure 26 augmentation finish\n",
      "figure 27 augmentation finish\n",
      "figure 28 augmentation finish\n",
      "figure 29 augmentation finish\n",
      "all finish\n"
     ]
    }
   ],
   "source": [
    "train_figure_dir = './AttnGAN-master_caption generation/data/figure_180/train_augmentation/greentriangle/original'\n",
    "\n",
    "fnames = sorted([os.path.join(train_figure_dir, fname) for\n",
    "                 fname in os.listdir(train_figure_dir)])\n",
    "\n",
    "for k in range(30):\n",
    "    img_path = fnames[k]\n",
    "\n",
    "    img = image.load_img(img_path, target_size=(300,300))\n",
    "\n",
    "    x = image.img_to_array(img)\n",
    "    x = x.reshape((1,) + x.shape)\n",
    "\n",
    "    i = 0\n",
    "    for batch in train_datagen.flow(x,\n",
    "                                    batch_size=1,\n",
    "                                    save_to_dir='./AttnGAN-master_caption generation/data/figure_180/train_augmentation/greentriangle',\n",
    "                                    save_prefix='green triangle new',\n",
    "                                    save_format='jpeg'):\n",
    "        i += 1\n",
    "        if i==60:\n",
    "            break\n",
    "    print('figure', k, 'augmentation finish')\n",
    "\n",
    "print('all finish')"
   ]
  },
  {
   "cell_type": "markdown",
   "metadata": {},
   "source": [
    "<h2>red triangle data augmentation</h2>"
   ]
  },
  {
   "cell_type": "code",
   "execution_count": 8,
   "metadata": {},
   "outputs": [
    {
     "name": "stdout",
     "output_type": "stream",
     "text": [
      "figure 0 augmentation finish\n",
      "figure 1 augmentation finish\n",
      "figure 2 augmentation finish\n",
      "figure 3 augmentation finish\n",
      "figure 4 augmentation finish\n",
      "figure 5 augmentation finish\n",
      "figure 6 augmentation finish\n",
      "figure 7 augmentation finish\n",
      "figure 8 augmentation finish\n",
      "figure 9 augmentation finish\n",
      "figure 10 augmentation finish\n",
      "figure 11 augmentation finish\n",
      "figure 12 augmentation finish\n",
      "figure 13 augmentation finish\n",
      "figure 14 augmentation finish\n",
      "figure 15 augmentation finish\n",
      "figure 16 augmentation finish\n",
      "figure 17 augmentation finish\n",
      "figure 18 augmentation finish\n",
      "figure 19 augmentation finish\n",
      "figure 20 augmentation finish\n",
      "figure 21 augmentation finish\n",
      "figure 22 augmentation finish\n",
      "figure 23 augmentation finish\n",
      "figure 24 augmentation finish\n",
      "figure 25 augmentation finish\n",
      "figure 26 augmentation finish\n",
      "figure 27 augmentation finish\n",
      "figure 28 augmentation finish\n",
      "figure 29 augmentation finish\n",
      "all finish\n"
     ]
    }
   ],
   "source": [
    "train_figure_dir = './AttnGAN-master_caption generation/data/figure_180/train_augmentation/redtriangle/original'\n",
    "\n",
    "fnames = sorted([os.path.join(train_figure_dir, fname) for\n",
    "                 fname in os.listdir(train_figure_dir)])\n",
    "\n",
    "for k in range(30):\n",
    "    img_path = fnames[k]\n",
    "\n",
    "    img = image.load_img(img_path, target_size=(300,300))\n",
    "\n",
    "    x = image.img_to_array(img)\n",
    "    x = x.reshape((1,) + x.shape)\n",
    "\n",
    "    i = 0\n",
    "    for batch in train_datagen.flow(x,\n",
    "                                    batch_size=1,\n",
    "                                    save_to_dir='./AttnGAN-master_caption generation/data/figure_180/train_augmentation/redtriangle',\n",
    "                                    save_prefix='red triangle new',\n",
    "                                    save_format='jpeg'):\n",
    "        i += 1\n",
    "        if i==60:\n",
    "            break\n",
    "    print('figure', k, 'augmentation finish')\n",
    "\n",
    "print('all finish')"
   ]
  },
  {
   "cell_type": "markdown",
   "metadata": {},
   "source": [
    "<h2>red rectangle data augmentation</h2>"
   ]
  },
  {
   "cell_type": "code",
   "execution_count": 9,
   "metadata": {},
   "outputs": [
    {
     "name": "stdout",
     "output_type": "stream",
     "text": [
      "figure 0 augmentation finish\n",
      "figure 1 augmentation finish\n",
      "figure 2 augmentation finish\n",
      "figure 3 augmentation finish\n",
      "figure 4 augmentation finish\n",
      "figure 5 augmentation finish\n",
      "figure 6 augmentation finish\n",
      "figure 7 augmentation finish\n",
      "figure 8 augmentation finish\n",
      "figure 9 augmentation finish\n",
      "figure 10 augmentation finish\n",
      "figure 11 augmentation finish\n",
      "figure 12 augmentation finish\n",
      "figure 13 augmentation finish\n",
      "figure 14 augmentation finish\n",
      "figure 15 augmentation finish\n",
      "figure 16 augmentation finish\n",
      "figure 17 augmentation finish\n",
      "figure 18 augmentation finish\n",
      "figure 19 augmentation finish\n",
      "figure 20 augmentation finish\n",
      "figure 21 augmentation finish\n",
      "figure 22 augmentation finish\n",
      "figure 23 augmentation finish\n",
      "figure 24 augmentation finish\n",
      "figure 25 augmentation finish\n",
      "figure 26 augmentation finish\n",
      "figure 27 augmentation finish\n",
      "figure 28 augmentation finish\n",
      "figure 29 augmentation finish\n",
      "all finish\n"
     ]
    }
   ],
   "source": [
    "train_figure_dir = './AttnGAN-master_caption generation/data/figure_180/train_augmentation/redrectangle/original'\n",
    "\n",
    "fnames = sorted([os.path.join(train_figure_dir, fname) for\n",
    "                 fname in os.listdir(train_figure_dir)])\n",
    "\n",
    "for k in range(30):\n",
    "    img_path = fnames[k]\n",
    "\n",
    "    img = image.load_img(img_path, target_size=(300,300))\n",
    "\n",
    "    x = image.img_to_array(img)\n",
    "    x = x.reshape((1,) + x.shape)\n",
    "\n",
    "    i = 0\n",
    "    for batch in train_datagen.flow(x,\n",
    "                                    batch_size=1,\n",
    "                                    save_to_dir='./AttnGAN-master_caption generation/data/figure_180/train_augmentation/redrectangle',\n",
    "                                    save_prefix='red rectangle new',\n",
    "                                    save_format='jpeg'):\n",
    "        i += 1\n",
    "        if i==60:\n",
    "            break\n",
    "    print('figure', k, 'augmentation finish')\n",
    "\n",
    "print('all finish')"
   ]
  },
  {
   "cell_type": "code",
   "execution_count": 10,
   "metadata": {},
   "outputs": [
    {
     "data": {
      "text/plain": [
       "\"train_generator = train_datagen.flow_from_directory('./AttnGAN-master_caption generation/data/figure_180/train_augmentation',\\n                                                    target_size=(300, 300),\\n                                                    batch_size=90,\\n                                                    class_mode=None,\\n                                                    save_to_dir='./AttnGAN-master_caption generation/data/figure_180/train_augmentation',\\n                                                    save_prefix='new_train_figure',\\n                                                    save_format='jpeg')\\n                                                    \""
      ]
     },
     "execution_count": 10,
     "metadata": {},
     "output_type": "execute_result"
    }
   ],
   "source": [
    "'''train_generator = train_datagen.flow_from_directory('./AttnGAN-master_caption generation/data/figure_180/train_augmentation',\n",
    "                                                    target_size=(300, 300),\n",
    "                                                    batch_size=90,\n",
    "                                                    class_mode=None,\n",
    "                                                    save_to_dir='./AttnGAN-master_caption generation/data/figure_180/train_augmentation',\n",
    "                                                    save_prefix='new_train_figure',\n",
    "                                                    save_format='jpeg')\n",
    "                                                    '''"
   ]
  },
  {
   "cell_type": "code",
   "execution_count": 11,
   "metadata": {},
   "outputs": [
    {
     "data": {
      "text/plain": [
       "\"validation_generator = test_datagen.flow_from_directory('./AttnGAN-master_caption generation/data/figure_180/test_augmentation',\\n                                                        target_size=(300, 300),\\n                                                        batch_size=12,\\n                                                        class_mode=None,\\n                                                        save_to_dir='./AttnGAN-master_caption generation/data/figure_180/test_augmentation',\\n                                                        save_prefix='new_test_figure',\\n                                                        save_format='jpeg')\\n                                                        \""
      ]
     },
     "execution_count": 11,
     "metadata": {},
     "output_type": "execute_result"
    }
   ],
   "source": [
    "'''validation_generator = test_datagen.flow_from_directory('./AttnGAN-master_caption generation/data/figure_180/test_augmentation',\n",
    "                                                        target_size=(300, 300),\n",
    "                                                        batch_size=12,\n",
    "                                                        class_mode=None,\n",
    "                                                        save_to_dir='./AttnGAN-master_caption generation/data/figure_180/test_augmentation',\n",
    "                                                        save_prefix='new_test_figure',\n",
    "                                                        save_format='jpeg')\n",
    "                                                        '''"
   ]
  },
  {
   "cell_type": "code",
   "execution_count": 12,
   "metadata": {},
   "outputs": [
    {
     "data": {
      "text/plain": [
       "\"epochs=100\\nfor e in range(epochs):\\n    print('Epoch', e)\\n    batches = 0\\n    for x_batch in train_datagen.flow(x_train,\\n                                         batch_size=90,\\n                                         save_to_dir='./AttnGAN-master_caption generation/data/figure_180/train_augmentation',\\n                                         save_prefix='new_train_figure',\\n                                         save_format='jpeg'):\\n        batches += 1\\n        if batches >= len(x_train) / 32:\\n            # we need to break the loop by hand because\\n            # the generator loops indefinitely\\n            break\\n            \""
      ]
     },
     "execution_count": 12,
     "metadata": {},
     "output_type": "execute_result"
    }
   ],
   "source": [
    "'''epochs=100\n",
    "for e in range(epochs):\n",
    "    print('Epoch', e)\n",
    "    batches = 0\n",
    "    for x_batch in train_datagen.flow(x_train,\n",
    "                                         batch_size=90,\n",
    "                                         save_to_dir='./AttnGAN-master_caption generation/data/figure_180/train_augmentation',\n",
    "                                         save_prefix='new_train_figure',\n",
    "                                         save_format='jpeg'):\n",
    "        batches += 1\n",
    "        if batches >= len(x_train) / 32:\n",
    "            # we need to break the loop by hand because\n",
    "            # the generator loops indefinitely\n",
    "            break\n",
    "            '''"
   ]
  },
  {
   "cell_type": "code",
   "execution_count": 13,
   "metadata": {},
   "outputs": [
    {
     "data": {
      "text/plain": [
       "\"img = load_img('./AttnGAN-master_caption generation/data/figure_180/images/blue circle1.jpg')  # PIL 이미지\\nx = img_to_array(img)  # (3, 150, 150) 크기의 NumPy 배열\\nx = x.reshape((1,) + x.shape)  # (1, 3, 150, 150) 크기의 NumPy 배열\\n\\n# 아래 .flow() 함수는 임의 변환된 이미지를 배치 단위로 생성해서\\n# 지정된 `preview/` 폴더에 저장합니다.\\ni = 0\\nfor batch in train_datagen.flow(x, batch_size=1,\\n                                save_to_dir='preview',\\n                                save_prefix='figure',\\n                                save_format='jpeg'):\\n    i += 1\\n    if i > 20:\\n        break  # 이미지 20장을 생성하고 마칩니다\\n        \""
      ]
     },
     "execution_count": 13,
     "metadata": {},
     "output_type": "execute_result"
    }
   ],
   "source": [
    "'''img = load_img('./AttnGAN-master_caption generation/data/figure_180/images/blue circle1.jpg')  # PIL 이미지\n",
    "x = img_to_array(img)  # (3, 150, 150) 크기의 NumPy 배열\n",
    "x = x.reshape((1,) + x.shape)  # (1, 3, 150, 150) 크기의 NumPy 배열\n",
    "\n",
    "# 아래 .flow() 함수는 임의 변환된 이미지를 배치 단위로 생성해서\n",
    "# 지정된 `preview/` 폴더에 저장합니다.\n",
    "i = 0\n",
    "for batch in train_datagen.flow(x, batch_size=1,\n",
    "                                save_to_dir='preview',\n",
    "                                save_prefix='figure',\n",
    "                                save_format='jpeg'):\n",
    "    i += 1\n",
    "    if i > 20:\n",
    "        break  # 이미지 20장을 생성하고 마칩니다\n",
    "        '''"
   ]
  },
  {
   "cell_type": "code",
   "execution_count": 14,
   "metadata": {},
   "outputs": [
    {
     "data": {
      "text/plain": [
       "'model.fit_generator(train_generator,\\n                    steps_per_epoch=2000,\\n                    epochs=50,\\n                    validation_data=validation_generator,\\n                    validation_steps=800)\\n                    '"
      ]
     },
     "execution_count": 14,
     "metadata": {},
     "output_type": "execute_result"
    }
   ],
   "source": [
    "'''model.fit_generator(train_generator,\n",
    "                    steps_per_epoch=2000,\n",
    "                    epochs=50,\n",
    "                    validation_data=validation_generator,\n",
    "                    validation_steps=800)\n",
    "                    '''"
   ]
  }
 ],
 "metadata": {
  "kernelspec": {
   "display_name": "Environment (conda_keras)",
   "language": "python",
   "name": "conda_keras"
  },
  "language_info": {
   "codemirror_mode": {
    "name": "ipython",
    "version": 3
   },
   "file_extension": ".py",
   "mimetype": "text/x-python",
   "name": "python",
   "nbconvert_exporter": "python",
   "pygments_lexer": "ipython3",
   "version": "3.6.10"
  }
 },
 "nbformat": 4,
 "nbformat_minor": 4
}
