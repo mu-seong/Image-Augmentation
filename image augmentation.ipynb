{
 "cells": [
  {
   "cell_type": "code",
   "execution_count": 51,
   "metadata": {
    "scrolled": false
   },
   "outputs": [],
   "source": [
    "from keras.preprocessing import image\n",
    "from keras.preprocessing.image import ImageDataGenerator, array_to_img, img_to_array, load_img\n",
    "import os\n",
    "import sys"
   ]
  },
  {
   "cell_type": "code",
   "execution_count": 52,
   "metadata": {},
   "outputs": [],
   "source": [
    "train_datagen = ImageDataGenerator(rescale=1./255,\n",
    "                                  horizontal_flip=True,\n",
    "                                  width_shift_range=0.1,\n",
    "                                  height_shift_range=0.1,\n",
    "                                  rotation_range=5,\n",
    "                                  shear_range=0.5,\n",
    "                                  zoom_range=0.25,\n",
    "                                  vertical_flip=True,\n",
    "                                  fill_mode='nearest')"
   ]
  },
  {
   "cell_type": "code",
   "execution_count": 53,
   "metadata": {},
   "outputs": [
    {
     "data": {
      "text/plain": [
       "'test_datagen = ImageDataGenerator(rescale=1./255)\\n'"
      ]
     },
     "execution_count": 53,
     "metadata": {},
     "output_type": "execute_result"
    }
   ],
   "source": [
    "'''test_datagen = ImageDataGenerator(rescale=1./255)\n",
    "'''"
   ]
  },
  {
   "cell_type": "markdown",
   "metadata": {},
   "source": [
    "<h2>blue circle data augmentation</h2>"
   ]
  },
  {
   "cell_type": "code",
   "execution_count": 54,
   "metadata": {},
   "outputs": [
    {
     "name": "stdout",
     "output_type": "stream",
     "text": [
      "figure 0 augmentation finish\n",
      "figure 1 augmentation finish\n",
      "figure 2 augmentation finish\n",
      "figure 3 augmentation finish\n",
      "figure 4 augmentation finish\n",
      "all finish\n"
     ]
    }
   ],
   "source": [
    "train_figure_dir = 'D:/figure/three/blue circle'\n",
    "\n",
    "fnames = sorted([os.path.join(train_figure_dir, fname) for\n",
    "                 fname in os.listdir(train_figure_dir)])\n",
    "\n",
    "for k in range(5):\n",
    "    img_path = fnames[k]\n",
    "\n",
    "    img = image.load_img(img_path, target_size=(300,300))\n",
    "\n",
    "    x = image.img_to_array(img)\n",
    "    x = x.reshape((1,) + x.shape)\n",
    "\n",
    "    i = 0\n",
    "    for batch in train_datagen.flow(x,\n",
    "                                    batch_size=1,\n",
    "                                    save_to_dir='D:/figure/three augmentation/blue circle',\n",
    "                                    save_prefix='blue circle new',\n",
    "                                    save_format='jpeg'):\n",
    "        i += 1\n",
    "        if i==30:\n",
    "            break\n",
    "    print('figure', k, 'augmentation finish')\n",
    "\n",
    "print('all finish')"
   ]
  },
  {
   "cell_type": "markdown",
   "metadata": {},
   "source": [
    "<h2>blue rectangle data augmentation</h2>"
   ]
  },
  {
   "cell_type": "code",
   "execution_count": 55,
   "metadata": {},
   "outputs": [
    {
     "name": "stdout",
     "output_type": "stream",
     "text": [
      "figure 0 augmentation finish\n",
      "figure 1 augmentation finish\n",
      "figure 2 augmentation finish\n",
      "figure 3 augmentation finish\n",
      "figure 4 augmentation finish\n",
      "all finish\n"
     ]
    }
   ],
   "source": [
    "train_figure_dir = 'D:/figure/three/blue rectangle'\n",
    "\n",
    "fnames = sorted([os.path.join(train_figure_dir, fname) for\n",
    "                 fname in os.listdir(train_figure_dir)])\n",
    "\n",
    "for k in range(5):\n",
    "    img_path = fnames[k]\n",
    "\n",
    "    img = image.load_img(img_path, target_size=(300,300))\n",
    "\n",
    "    x = image.img_to_array(img)\n",
    "    x = x.reshape((1,) + x.shape)\n",
    "\n",
    "    i = 0\n",
    "    for batch in train_datagen.flow(x,\n",
    "                                    batch_size=1,\n",
    "                                    save_to_dir='D:/figure/three augmentation/blue rectangle',\n",
    "                                    save_prefix='blue rectangle new',\n",
    "                                    save_format='jpeg'):\n",
    "        i += 1\n",
    "        if i==30:\n",
    "            break\n",
    "    print('figure', k, 'augmentation finish')\n",
    "\n",
    "print('all finish')"
   ]
  },
  {
   "cell_type": "markdown",
   "metadata": {},
   "source": [
    "<h2>green circle data augmentation</h2>"
   ]
  },
  {
   "cell_type": "code",
   "execution_count": 56,
   "metadata": {},
   "outputs": [
    {
     "name": "stdout",
     "output_type": "stream",
     "text": [
      "figure 0 augmentation finish\n",
      "figure 1 augmentation finish\n",
      "figure 2 augmentation finish\n",
      "figure 3 augmentation finish\n",
      "figure 4 augmentation finish\n",
      "all finish\n"
     ]
    }
   ],
   "source": [
    "train_figure_dir = 'D:/figure/three/green circle'\n",
    "\n",
    "fnames = sorted([os.path.join(train_figure_dir, fname) for\n",
    "                 fname in os.listdir(train_figure_dir)])\n",
    "\n",
    "for k in range(5):\n",
    "    img_path = fnames[k]\n",
    "\n",
    "    img = image.load_img(img_path, target_size=(300,300))\n",
    "\n",
    "    x = image.img_to_array(img)\n",
    "    x = x.reshape((1,) + x.shape)\n",
    "\n",
    "    i = 0\n",
    "    for batch in train_datagen.flow(x,\n",
    "                                    batch_size=1,\n",
    "                                    save_to_dir='D:/figure/three augmentation/green circle',\n",
    "                                    save_prefix='green circle new',\n",
    "                                    save_format='jpeg'):\n",
    "        i += 1\n",
    "        if i==30:\n",
    "            break\n",
    "    print('figure', k, 'augmentation finish')\n",
    "\n",
    "print('all finish')"
   ]
  },
  {
   "cell_type": "markdown",
   "metadata": {},
   "source": [
    "<h2>green triangle data augmentation</h2>"
   ]
  },
  {
   "cell_type": "code",
   "execution_count": 57,
   "metadata": {},
   "outputs": [
    {
     "name": "stdout",
     "output_type": "stream",
     "text": [
      "figure 0 augmentation finish\n",
      "figure 1 augmentation finish\n",
      "figure 2 augmentation finish\n",
      "figure 3 augmentation finish\n",
      "figure 4 augmentation finish\n",
      "all finish\n"
     ]
    }
   ],
   "source": [
    "train_figure_dir = 'D:/figure/three/green triangle'\n",
    "\n",
    "fnames = sorted([os.path.join(train_figure_dir, fname) for\n",
    "                 fname in os.listdir(train_figure_dir)])\n",
    "\n",
    "for k in range(5):\n",
    "    img_path = fnames[k]\n",
    "\n",
    "    img = image.load_img(img_path, target_size=(300,300))\n",
    "\n",
    "    x = image.img_to_array(img)\n",
    "    x = x.reshape((1,) + x.shape)\n",
    "\n",
    "    i = 0\n",
    "    for batch in train_datagen.flow(x,\n",
    "                                    batch_size=1,\n",
    "                                    save_to_dir='D:/figure/three augmentation/green triangle',\n",
    "                                    save_prefix='green triangle new',\n",
    "                                    save_format='jpeg'):\n",
    "        i += 1\n",
    "        if i==30:\n",
    "            break\n",
    "    print('figure', k, 'augmentation finish')\n",
    "\n",
    "print('all finish')"
   ]
  },
  {
   "cell_type": "markdown",
   "metadata": {},
   "source": [
    "<h2>red triangle data augmentation</h2>"
   ]
  },
  {
   "cell_type": "code",
   "execution_count": 58,
   "metadata": {},
   "outputs": [
    {
     "name": "stdout",
     "output_type": "stream",
     "text": [
      "figure 0 augmentation finish\n",
      "figure 1 augmentation finish\n",
      "figure 2 augmentation finish\n",
      "figure 3 augmentation finish\n",
      "figure 4 augmentation finish\n",
      "all finish\n"
     ]
    }
   ],
   "source": [
    "train_figure_dir = 'D:/figure/three/red triangle'\n",
    "\n",
    "fnames = sorted([os.path.join(train_figure_dir, fname) for\n",
    "                 fname in os.listdir(train_figure_dir)])\n",
    "\n",
    "for k in range(5):\n",
    "    img_path = fnames[k]\n",
    "\n",
    "    img = image.load_img(img_path, target_size=(300,300))\n",
    "\n",
    "    x = image.img_to_array(img)\n",
    "    x = x.reshape((1,) + x.shape)\n",
    "\n",
    "    i = 0\n",
    "    for batch in train_datagen.flow(x,\n",
    "                                    batch_size=1,\n",
    "                                    save_to_dir='D:/figure/three augmentation/red triangle',\n",
    "                                    save_prefix='red triangle new',\n",
    "                                    save_format='jpeg'):\n",
    "        i += 1\n",
    "        if i==30:\n",
    "            break\n",
    "    print('figure', k, 'augmentation finish')\n",
    "\n",
    "print('all finish')"
   ]
  },
  {
   "cell_type": "markdown",
   "metadata": {},
   "source": [
    "<h2>red rectangle data augmentation</h2>"
   ]
  },
  {
   "cell_type": "code",
   "execution_count": 59,
   "metadata": {},
   "outputs": [
    {
     "name": "stdout",
     "output_type": "stream",
     "text": [
      "figure 0 augmentation finish\n",
      "figure 1 augmentation finish\n",
      "figure 2 augmentation finish\n",
      "figure 3 augmentation finish\n",
      "figure 4 augmentation finish\n",
      "all finish\n"
     ]
    }
   ],
   "source": [
    "train_figure_dir = 'D:/figure/three/red rectangle'\n",
    "\n",
    "fnames = sorted([os.path.join(train_figure_dir, fname) for\n",
    "                 fname in os.listdir(train_figure_dir)])\n",
    "\n",
    "for k in range(5):\n",
    "    img_path = fnames[k]\n",
    "\n",
    "    img = image.load_img(img_path, target_size=(300,300))\n",
    "\n",
    "    x = image.img_to_array(img)\n",
    "    x = x.reshape((1,) + x.shape)\n",
    "\n",
    "    i = 0\n",
    "    for batch in train_datagen.flow(x,\n",
    "                                    batch_size=1,\n",
    "                                    save_to_dir='D:/figure/three augmentation/red rectangle',\n",
    "                                    save_prefix='red rectangle new',\n",
    "                                    save_format='jpeg'):\n",
    "        i += 1\n",
    "        if i==30:\n",
    "            break\n",
    "    print('figure', k, 'augmentation finish')\n",
    "\n",
    "print('all finish')"
   ]
  }
 ],
 "metadata": {
  "kernelspec": {
   "display_name": "Python 3",
   "language": "python",
   "name": "python3"
  },
  "language_info": {
   "codemirror_mode": {
    "name": "ipython",
    "version": 3
   },
   "file_extension": ".py",
   "mimetype": "text/x-python",
   "name": "python",
   "nbconvert_exporter": "python",
   "pygments_lexer": "ipython3",
   "version": "3.7.4"
  }
 },
 "nbformat": 4,
 "nbformat_minor": 4
}
